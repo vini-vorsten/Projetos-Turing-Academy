{
  "nbformat": 4,
  "nbformat_minor": 0,
  "metadata": {
    "colab": {
      "name": "Projeto2.ipynb",
      "provenance": [],
      "collapsed_sections": []
    },
    "kernelspec": {
      "name": "python3",
      "display_name": "Python 3"
    },
    "language_info": {
      "name": "python"
    }
  },
  "cells": [
    {
      "cell_type": "markdown",
      "source": [
        "# Análise da correlação entre as features do dataset"
      ],
      "metadata": {
        "id": "2E_FJfWXkVSs"
      }
    },
    {
      "cell_type": "code",
      "source": [
        "import pandas as pd\n",
        "import matplotlib.pyplot as plt\n",
        "import seaborn as sns \n",
        "df = pd.read_csv('neo.csv')\n",
        "df.head(10)"
      ],
      "metadata": {
        "colab": {
          "base_uri": "https://localhost:8080/",
          "height": 363
        },
        "id": "NHycBg2KSypZ",
        "outputId": "f72e6035-d132-483d-d28d-a27e100da0b6"
      },
      "execution_count": 4,
      "outputs": [
        {
          "output_type": "execute_result",
          "data": {
            "text/plain": [
              "         id                 name  est_diameter_min  est_diameter_max  \\\n",
              "0   2162635  162635 (2000 SS164)          1.198271          2.679415   \n",
              "1   2277475    277475 (2005 WK4)          0.265800          0.594347   \n",
              "2   2512244   512244 (2015 YE18)          0.722030          1.614507   \n",
              "3   3596030          (2012 BV13)          0.096506          0.215794   \n",
              "4   3667127          (2014 GE35)          0.255009          0.570217   \n",
              "5  54138696          (2021 GY23)          0.036354          0.081291   \n",
              "6  54189957          (2021 PY40)          0.171615          0.383743   \n",
              "7  54230078           (2021 XD6)          0.005328          0.011914   \n",
              "8   2088213     88213 (2001 AF2)          0.350393          0.783502   \n",
              "9   3766065            (2016 YM)          0.105817          0.236614   \n",
              "\n",
              "   relative_velocity  miss_distance orbiting_body  sentry_object  \\\n",
              "0       13569.249224   5.483974e+07         Earth          False   \n",
              "1       73588.726663   6.143813e+07         Earth          False   \n",
              "2      114258.692129   4.979872e+07         Earth          False   \n",
              "3       24764.303138   2.543497e+07         Earth          False   \n",
              "4       42737.733765   4.627557e+07         Earth          False   \n",
              "5       34297.587778   4.058569e+07         Earth          False   \n",
              "6       27529.472307   2.906912e+07         Earth          False   \n",
              "7       57544.470083   5.511502e+07         Earth          False   \n",
              "8       56625.210122   6.903598e+07         Earth          False   \n",
              "9       48425.840329   3.835526e+07         Earth          False   \n",
              "\n",
              "   absolute_magnitude  hazardous  \n",
              "0               16.73      False  \n",
              "1               20.00       True  \n",
              "2               17.83      False  \n",
              "3               22.20      False  \n",
              "4               20.09       True  \n",
              "5               24.32      False  \n",
              "6               20.95      False  \n",
              "7               28.49      False  \n",
              "8               19.40      False  \n",
              "9               22.00      False  "
            ],
            "text/html": [
              "\n",
              "  <div id=\"df-42cf99e1-934f-46c1-9a78-b19f2038bd35\">\n",
              "    <div class=\"colab-df-container\">\n",
              "      <div>\n",
              "<style scoped>\n",
              "    .dataframe tbody tr th:only-of-type {\n",
              "        vertical-align: middle;\n",
              "    }\n",
              "\n",
              "    .dataframe tbody tr th {\n",
              "        vertical-align: top;\n",
              "    }\n",
              "\n",
              "    .dataframe thead th {\n",
              "        text-align: right;\n",
              "    }\n",
              "</style>\n",
              "<table border=\"1\" class=\"dataframe\">\n",
              "  <thead>\n",
              "    <tr style=\"text-align: right;\">\n",
              "      <th></th>\n",
              "      <th>id</th>\n",
              "      <th>name</th>\n",
              "      <th>est_diameter_min</th>\n",
              "      <th>est_diameter_max</th>\n",
              "      <th>relative_velocity</th>\n",
              "      <th>miss_distance</th>\n",
              "      <th>orbiting_body</th>\n",
              "      <th>sentry_object</th>\n",
              "      <th>absolute_magnitude</th>\n",
              "      <th>hazardous</th>\n",
              "    </tr>\n",
              "  </thead>\n",
              "  <tbody>\n",
              "    <tr>\n",
              "      <th>0</th>\n",
              "      <td>2162635</td>\n",
              "      <td>162635 (2000 SS164)</td>\n",
              "      <td>1.198271</td>\n",
              "      <td>2.679415</td>\n",
              "      <td>13569.249224</td>\n",
              "      <td>5.483974e+07</td>\n",
              "      <td>Earth</td>\n",
              "      <td>False</td>\n",
              "      <td>16.73</td>\n",
              "      <td>False</td>\n",
              "    </tr>\n",
              "    <tr>\n",
              "      <th>1</th>\n",
              "      <td>2277475</td>\n",
              "      <td>277475 (2005 WK4)</td>\n",
              "      <td>0.265800</td>\n",
              "      <td>0.594347</td>\n",
              "      <td>73588.726663</td>\n",
              "      <td>6.143813e+07</td>\n",
              "      <td>Earth</td>\n",
              "      <td>False</td>\n",
              "      <td>20.00</td>\n",
              "      <td>True</td>\n",
              "    </tr>\n",
              "    <tr>\n",
              "      <th>2</th>\n",
              "      <td>2512244</td>\n",
              "      <td>512244 (2015 YE18)</td>\n",
              "      <td>0.722030</td>\n",
              "      <td>1.614507</td>\n",
              "      <td>114258.692129</td>\n",
              "      <td>4.979872e+07</td>\n",
              "      <td>Earth</td>\n",
              "      <td>False</td>\n",
              "      <td>17.83</td>\n",
              "      <td>False</td>\n",
              "    </tr>\n",
              "    <tr>\n",
              "      <th>3</th>\n",
              "      <td>3596030</td>\n",
              "      <td>(2012 BV13)</td>\n",
              "      <td>0.096506</td>\n",
              "      <td>0.215794</td>\n",
              "      <td>24764.303138</td>\n",
              "      <td>2.543497e+07</td>\n",
              "      <td>Earth</td>\n",
              "      <td>False</td>\n",
              "      <td>22.20</td>\n",
              "      <td>False</td>\n",
              "    </tr>\n",
              "    <tr>\n",
              "      <th>4</th>\n",
              "      <td>3667127</td>\n",
              "      <td>(2014 GE35)</td>\n",
              "      <td>0.255009</td>\n",
              "      <td>0.570217</td>\n",
              "      <td>42737.733765</td>\n",
              "      <td>4.627557e+07</td>\n",
              "      <td>Earth</td>\n",
              "      <td>False</td>\n",
              "      <td>20.09</td>\n",
              "      <td>True</td>\n",
              "    </tr>\n",
              "    <tr>\n",
              "      <th>5</th>\n",
              "      <td>54138696</td>\n",
              "      <td>(2021 GY23)</td>\n",
              "      <td>0.036354</td>\n",
              "      <td>0.081291</td>\n",
              "      <td>34297.587778</td>\n",
              "      <td>4.058569e+07</td>\n",
              "      <td>Earth</td>\n",
              "      <td>False</td>\n",
              "      <td>24.32</td>\n",
              "      <td>False</td>\n",
              "    </tr>\n",
              "    <tr>\n",
              "      <th>6</th>\n",
              "      <td>54189957</td>\n",
              "      <td>(2021 PY40)</td>\n",
              "      <td>0.171615</td>\n",
              "      <td>0.383743</td>\n",
              "      <td>27529.472307</td>\n",
              "      <td>2.906912e+07</td>\n",
              "      <td>Earth</td>\n",
              "      <td>False</td>\n",
              "      <td>20.95</td>\n",
              "      <td>False</td>\n",
              "    </tr>\n",
              "    <tr>\n",
              "      <th>7</th>\n",
              "      <td>54230078</td>\n",
              "      <td>(2021 XD6)</td>\n",
              "      <td>0.005328</td>\n",
              "      <td>0.011914</td>\n",
              "      <td>57544.470083</td>\n",
              "      <td>5.511502e+07</td>\n",
              "      <td>Earth</td>\n",
              "      <td>False</td>\n",
              "      <td>28.49</td>\n",
              "      <td>False</td>\n",
              "    </tr>\n",
              "    <tr>\n",
              "      <th>8</th>\n",
              "      <td>2088213</td>\n",
              "      <td>88213 (2001 AF2)</td>\n",
              "      <td>0.350393</td>\n",
              "      <td>0.783502</td>\n",
              "      <td>56625.210122</td>\n",
              "      <td>6.903598e+07</td>\n",
              "      <td>Earth</td>\n",
              "      <td>False</td>\n",
              "      <td>19.40</td>\n",
              "      <td>False</td>\n",
              "    </tr>\n",
              "    <tr>\n",
              "      <th>9</th>\n",
              "      <td>3766065</td>\n",
              "      <td>(2016 YM)</td>\n",
              "      <td>0.105817</td>\n",
              "      <td>0.236614</td>\n",
              "      <td>48425.840329</td>\n",
              "      <td>3.835526e+07</td>\n",
              "      <td>Earth</td>\n",
              "      <td>False</td>\n",
              "      <td>22.00</td>\n",
              "      <td>False</td>\n",
              "    </tr>\n",
              "  </tbody>\n",
              "</table>\n",
              "</div>\n",
              "      <button class=\"colab-df-convert\" onclick=\"convertToInteractive('df-42cf99e1-934f-46c1-9a78-b19f2038bd35')\"\n",
              "              title=\"Convert this dataframe to an interactive table.\"\n",
              "              style=\"display:none;\">\n",
              "        \n",
              "  <svg xmlns=\"http://www.w3.org/2000/svg\" height=\"24px\"viewBox=\"0 0 24 24\"\n",
              "       width=\"24px\">\n",
              "    <path d=\"M0 0h24v24H0V0z\" fill=\"none\"/>\n",
              "    <path d=\"M18.56 5.44l.94 2.06.94-2.06 2.06-.94-2.06-.94-.94-2.06-.94 2.06-2.06.94zm-11 1L8.5 8.5l.94-2.06 2.06-.94-2.06-.94L8.5 2.5l-.94 2.06-2.06.94zm10 10l.94 2.06.94-2.06 2.06-.94-2.06-.94-.94-2.06-.94 2.06-2.06.94z\"/><path d=\"M17.41 7.96l-1.37-1.37c-.4-.4-.92-.59-1.43-.59-.52 0-1.04.2-1.43.59L10.3 9.45l-7.72 7.72c-.78.78-.78 2.05 0 2.83L4 21.41c.39.39.9.59 1.41.59.51 0 1.02-.2 1.41-.59l7.78-7.78 2.81-2.81c.8-.78.8-2.07 0-2.86zM5.41 20L4 18.59l7.72-7.72 1.47 1.35L5.41 20z\"/>\n",
              "  </svg>\n",
              "      </button>\n",
              "      \n",
              "  <style>\n",
              "    .colab-df-container {\n",
              "      display:flex;\n",
              "      flex-wrap:wrap;\n",
              "      gap: 12px;\n",
              "    }\n",
              "\n",
              "    .colab-df-convert {\n",
              "      background-color: #E8F0FE;\n",
              "      border: none;\n",
              "      border-radius: 50%;\n",
              "      cursor: pointer;\n",
              "      display: none;\n",
              "      fill: #1967D2;\n",
              "      height: 32px;\n",
              "      padding: 0 0 0 0;\n",
              "      width: 32px;\n",
              "    }\n",
              "\n",
              "    .colab-df-convert:hover {\n",
              "      background-color: #E2EBFA;\n",
              "      box-shadow: 0px 1px 2px rgba(60, 64, 67, 0.3), 0px 1px 3px 1px rgba(60, 64, 67, 0.15);\n",
              "      fill: #174EA6;\n",
              "    }\n",
              "\n",
              "    [theme=dark] .colab-df-convert {\n",
              "      background-color: #3B4455;\n",
              "      fill: #D2E3FC;\n",
              "    }\n",
              "\n",
              "    [theme=dark] .colab-df-convert:hover {\n",
              "      background-color: #434B5C;\n",
              "      box-shadow: 0px 1px 3px 1px rgba(0, 0, 0, 0.15);\n",
              "      filter: drop-shadow(0px 1px 2px rgba(0, 0, 0, 0.3));\n",
              "      fill: #FFFFFF;\n",
              "    }\n",
              "  </style>\n",
              "\n",
              "      <script>\n",
              "        const buttonEl =\n",
              "          document.querySelector('#df-42cf99e1-934f-46c1-9a78-b19f2038bd35 button.colab-df-convert');\n",
              "        buttonEl.style.display =\n",
              "          google.colab.kernel.accessAllowed ? 'block' : 'none';\n",
              "\n",
              "        async function convertToInteractive(key) {\n",
              "          const element = document.querySelector('#df-42cf99e1-934f-46c1-9a78-b19f2038bd35');\n",
              "          const dataTable =\n",
              "            await google.colab.kernel.invokeFunction('convertToInteractive',\n",
              "                                                     [key], {});\n",
              "          if (!dataTable) return;\n",
              "\n",
              "          const docLinkHtml = 'Like what you see? Visit the ' +\n",
              "            '<a target=\"_blank\" href=https://colab.research.google.com/notebooks/data_table.ipynb>data table notebook</a>'\n",
              "            + ' to learn more about interactive tables.';\n",
              "          element.innerHTML = '';\n",
              "          dataTable['output_type'] = 'display_data';\n",
              "          await google.colab.output.renderOutput(dataTable, element);\n",
              "          const docLink = document.createElement('div');\n",
              "          docLink.innerHTML = docLinkHtml;\n",
              "          element.appendChild(docLink);\n",
              "        }\n",
              "      </script>\n",
              "    </div>\n",
              "  </div>\n",
              "  "
            ]
          },
          "metadata": {},
          "execution_count": 4
        }
      ]
    },
    {
      "cell_type": "code",
      "source": [
        "def correlation_heatmap(train):\n",
        "    correlations = train.corr()\n",
        "\n",
        "    fig, ax = plt.subplots(figsize=(10,10))\n",
        "    sns.heatmap(correlations, vmax=1.0, center=0, fmt='.2f',\n",
        "                square=True, linewidths=.5, annot=True, cbar_kws={\"shrink\": .70})\n",
        "    plt.show();\n",
        "    \n",
        "correlation_heatmap(df)"
      ],
      "metadata": {
        "colab": {
          "base_uri": "https://localhost:8080/",
          "height": 586
        },
        "id": "lK7LDAkCk0F7",
        "outputId": "0f2755fb-b5cf-4903-b9ba-02d8e7dd5483"
      },
      "execution_count": 34,
      "outputs": [
        {
          "output_type": "display_data",
          "data": {
            "text/plain": [
              "<Figure size 720x720 with 2 Axes>"
            ],
            "image/png": "[encoded data removed]"
          },
          "metadata": {
            "needs_background": "light"
          }
        }
      ]
    },
    {
      "cell_type": "markdown",
      "source": [
        "Visualizando as correlações existentes entre as features, concluímos que \"est_diameter_min\",\"est_diameter_max\",\"relative_velocity\",\"miss_distance\" e \"absolute_magnitude\" são relevantes no cálculo da ameaça do asteroide, enquanto podemos excluir features destinadas à identificação."
      ],
      "metadata": {
        "id": "cQI1kqSNtW2Y"
      }
    },
    {
      "cell_type": "markdown",
      "source": [
        "# Elaboração da ANN baseada em Keras"
      ],
      "metadata": {
        "id": "UHP9v4qdkeJf"
      }
    },
    {
      "cell_type": "code",
      "execution_count": 28,
      "metadata": {
        "id": "2SJXbZgCRfHB"
      },
      "outputs": [],
      "source": [
        "import pandas as pd\n",
        "\n",
        "def normalize(x_train, x_test):\n",
        "    mean = x_train.mean(axis=0)\n",
        "    x_train -= mean\n",
        "    std = x_train.std(axis=0)\n",
        "    x_train /= std\n",
        "\n",
        "    x_test -= mean\n",
        "    x_test /= std\n",
        "\n",
        "\n",
        "\n",
        "relevant_rows = [\"est_diameter_min\",\"est_diameter_max\",\"relative_velocity\",\"miss_distance\",\"absolute_magnitude\",\"hazardous\"]\n",
        "dataset = pd.read_csv(open('neo.csv', \"rb\"))[relevant_rows]\n",
        "\n",
        "test_dataset = dataset.sample(frac=0.3)\n",
        "\n",
        "train_dataset = dataset.drop(test_dataset.index)\n",
        "\n",
        "y_train = train_dataset[\"hazardous\"]\n",
        "y_test = test_dataset[\"hazardous\"]\n",
        "\n",
        "x_train = train_dataset.drop(columns=[\"hazardous\"])\n",
        "x_test = test_dataset.drop(columns=[\"hazardous\"])\n",
        "\n",
        "normalize(x_train, x_test)"
      ]
    },
    {
      "cell_type": "code",
      "source": [
        "from keras.models import Sequential\n",
        "from keras.layers import Dense\n",
        "model = Sequential()"
      ],
      "metadata": {
        "id": "tmhkhcEZWJNv"
      },
      "execution_count": 5,
      "outputs": []
    },
    {
      "cell_type": "code",
      "source": [
        "model.add(Dense(10, activation='relu', input_dim=5))"
      ],
      "metadata": {
        "id": "fOXimAgxWOej"
      },
      "execution_count": 8,
      "outputs": []
    },
    {
      "cell_type": "code",
      "source": [
        "model.add(Dense(10, activation='relu'))"
      ],
      "metadata": {
        "id": "b6ZbljMwXG2n"
      },
      "execution_count": 9,
      "outputs": []
    },
    {
      "cell_type": "code",
      "source": [
        "model.add(Dense(units=1, activation='sigmoid'))"
      ],
      "metadata": {
        "id": "_OdkJ8xrXWKr"
      },
      "execution_count": 10,
      "outputs": []
    },
    {
      "cell_type": "code",
      "source": [
        "model.summary()"
      ],
      "metadata": {
        "colab": {
          "base_uri": "https://localhost:8080/"
        },
        "id": "DtzyKdKlXd0T",
        "outputId": "3dff9ed9-2700-4c24-8749-cb0d7db0cef7"
      },
      "execution_count": 11,
      "outputs": [
        {
          "output_type": "stream",
          "name": "stdout",
          "text": [
            "Model: \"sequential\"\n",
            "_________________________________________________________________\n",
            " Layer (type)                Output Shape              Param #   \n",
            "=================================================================\n",
            " dense (Dense)               (None, 10)                60        \n",
            "                                                                 \n",
            " dense_1 (Dense)             (None, 10)                110       \n",
            "                                                                 \n",
            " dense_2 (Dense)             (None, 1)                 11        \n",
            "                                                                 \n",
            "=================================================================\n",
            "Total params: 181\n",
            "Trainable params: 181\n",
            "Non-trainable params: 0\n",
            "_________________________________________________________________\n"
          ]
        }
      ]
    },
    {
      "cell_type": "code",
      "source": [
        "model.compile(optimizer='rmsprop', loss='binary_crossentropy',\n",
        "metrics=['accuracy'])"
      ],
      "metadata": {
        "id": "Hz6FFDXIXsq1"
      },
      "execution_count": 12,
      "outputs": []
    },
    {
      "cell_type": "code",
      "source": [
        "history = model.fit(x_train, y_train, epochs=10, batch_size=128, validation_data=(x_test, y_test))"
      ],
      "metadata": {
        "colab": {
          "base_uri": "https://localhost:8080/"
        },
        "id": "ao9rwo-9Y7sg",
        "outputId": "d60aee7a-a3fb-458e-c14c-85c0e670baef"
      },
      "execution_count": 29,
      "outputs": [
        {
          "output_type": "stream",
          "name": "stdout",
          "text": [
            "Epoch 1/10\n",
            "497/497 [==============================] - 2s 2ms/step - loss: 0.2998 - accuracy: 0.8912 - val_loss: 0.2030 - val_accuracy: 0.9072\n",
            "Epoch 2/10\n",
            "497/497 [==============================] - 1s 2ms/step - loss: 0.1967 - accuracy: 0.9085 - val_loss: 0.1927 - val_accuracy: 0.9085\n",
            "Epoch 3/10\n",
            "497/497 [==============================] - 1s 2ms/step - loss: 0.1907 - accuracy: 0.9099 - val_loss: 0.1891 - val_accuracy: 0.9096\n",
            "Epoch 4/10\n",
            "497/497 [==============================] - 1s 2ms/step - loss: 0.1883 - accuracy: 0.9110 - val_loss: 0.1874 - val_accuracy: 0.9109\n",
            "Epoch 5/10\n",
            "497/497 [==============================] - 1s 2ms/step - loss: 0.1872 - accuracy: 0.9111 - val_loss: 0.1865 - val_accuracy: 0.9120\n",
            "Epoch 6/10\n",
            "497/497 [==============================] - 2s 3ms/step - loss: 0.1866 - accuracy: 0.9117 - val_loss: 0.1857 - val_accuracy: 0.9124\n",
            "Epoch 7/10\n",
            "497/497 [==============================] - 1s 2ms/step - loss: 0.1862 - accuracy: 0.9117 - val_loss: 0.1853 - val_accuracy: 0.9124\n",
            "Epoch 8/10\n",
            "497/497 [==============================] - 1s 2ms/step - loss: 0.1858 - accuracy: 0.9118 - val_loss: 0.1850 - val_accuracy: 0.9127\n",
            "Epoch 9/10\n",
            "497/497 [==============================] - 1s 2ms/step - loss: 0.1857 - accuracy: 0.9117 - val_loss: 0.1849 - val_accuracy: 0.9127\n",
            "Epoch 10/10\n",
            "497/497 [==============================] - 1s 2ms/step - loss: 0.1855 - accuracy: 0.9118 - val_loss: 0.1847 - val_accuracy: 0.9126\n"
          ]
        }
      ]
    },
    {
      "cell_type": "code",
      "source": [
        "#Visualização da acurácia ao longo do tempo\n",
        "import matplotlib.pyplot as plt\n",
        "epochs = range(1, len(history.history['accuracy']) + 1)\n",
        "plt.plot(epochs, history.history['accuracy'], 'bo', label='Training acc')\n",
        "plt.plot(epochs, history.history['val_accuracy'], 'b', label='Validation acc')\n",
        "plt.title('Training and validation accuracy')\n",
        "plt.xlabel('Epochs')\n",
        "plt.ylabel('Accuracy')\n",
        "plt.legend()\n",
        "plt.show()"
      ],
      "metadata": {
        "colab": {
          "base_uri": "https://localhost:8080/",
          "height": 295
        },
        "id": "nAAVKTa5fR5u",
        "outputId": "ce42ccd7-840d-4dba-93fa-d3009dc17a26"
      },
      "execution_count": 33,
      "outputs": [
        {
          "output_type": "display_data",
          "data": {
            "text/plain": [
              "<Figure size 432x288 with 1 Axes>"
            ],
            "image/png": "[encoded data removed]"
          },
          "metadata": {
            "needs_background": "light"
          }
        }
      ]
    }
  ]
}